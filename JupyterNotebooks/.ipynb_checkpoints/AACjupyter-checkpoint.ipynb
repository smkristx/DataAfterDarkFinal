{
 "cells": [
  {
   "cell_type": "markdown",
   "id": "7b06fac2",
   "metadata": {},
   "source": [
    "# Let's get started with importing"
   ]
  },
  {
   "cell_type": "code",
   "execution_count": 2,
   "id": "05aa632a",
   "metadata": {},
   "outputs": [],
   "source": [
    "import pandas as pd\n",
    "import seaborn as sns\n",
    "import numpy as np\n",
    "import scipy\n",
    "from scipy import stats\n",
    "from statsmodels.stats.multicomp import pairwise_tukeyhsd\n",
    "from statsmodels.stats.multicomp import MultiComparison"
   ]
  },
  {
   "cell_type": "code",
   "execution_count": 3,
   "id": "e442fabd",
   "metadata": {},
   "outputs": [],
   "source": [
    "AACdata = pd.read_csv(\"C:/Users/smkri/Documents/GitHub/DataAfterDarkFinal/Data/aac_intakes_outcomesCLEAN.csv\")"
   ]
  },
  {
   "cell_type": "code",
   "execution_count": 4,
   "id": "a66258ac",
   "metadata": {},
   "outputs": [
    {
     "data": {
      "text/html": [
       "<div>\n",
       "<style scoped>\n",
       "    .dataframe tbody tr th:only-of-type {\n",
       "        vertical-align: middle;\n",
       "    }\n",
       "\n",
       "    .dataframe tbody tr th {\n",
       "        vertical-align: top;\n",
       "    }\n",
       "\n",
       "    .dataframe thead th {\n",
       "        text-align: right;\n",
       "    }\n",
       "</style>\n",
       "<table border=\"1\" class=\"dataframe\">\n",
       "  <thead>\n",
       "    <tr style=\"text-align: right;\">\n",
       "      <th></th>\n",
       "      <th>animal_id_intake</th>\n",
       "      <th>animal_type</th>\n",
       "      <th>intake_condition</th>\n",
       "      <th>intake_type</th>\n",
       "      <th>sex_upon_intake</th>\n",
       "      <th>intake_year</th>\n",
       "      <th>animal_id_outcome</th>\n",
       "      <th>outcome_subtype</th>\n",
       "      <th>outcome_type</th>\n",
       "      <th>sex_upon_outcome</th>\n",
       "      <th>outcome_year</th>\n",
       "    </tr>\n",
       "  </thead>\n",
       "  <tbody>\n",
       "    <tr>\n",
       "      <th>0</th>\n",
       "      <td>A006100</td>\n",
       "      <td>Dog</td>\n",
       "      <td>Normal</td>\n",
       "      <td>Stray</td>\n",
       "      <td>Neutered Male</td>\n",
       "      <td>2017</td>\n",
       "      <td>A006100</td>\n",
       "      <td>NaN</td>\n",
       "      <td>Return to Owner</td>\n",
       "      <td>Neutered Male</td>\n",
       "      <td>2017</td>\n",
       "    </tr>\n",
       "    <tr>\n",
       "      <th>1</th>\n",
       "      <td>A006100</td>\n",
       "      <td>Dog</td>\n",
       "      <td>Normal</td>\n",
       "      <td>Public Assist</td>\n",
       "      <td>Neutered Male</td>\n",
       "      <td>2014</td>\n",
       "      <td>A006100</td>\n",
       "      <td>NaN</td>\n",
       "      <td>Return to Owner</td>\n",
       "      <td>Neutered Male</td>\n",
       "      <td>2014</td>\n",
       "    </tr>\n",
       "    <tr>\n",
       "      <th>2</th>\n",
       "      <td>A006100</td>\n",
       "      <td>Dog</td>\n",
       "      <td>Normal</td>\n",
       "      <td>Public Assist</td>\n",
       "      <td>Neutered Male</td>\n",
       "      <td>2014</td>\n",
       "      <td>A006100</td>\n",
       "      <td>NaN</td>\n",
       "      <td>Return to Owner</td>\n",
       "      <td>Neutered Male</td>\n",
       "      <td>2014</td>\n",
       "    </tr>\n",
       "    <tr>\n",
       "      <th>3</th>\n",
       "      <td>A047759</td>\n",
       "      <td>Dog</td>\n",
       "      <td>Normal</td>\n",
       "      <td>Owner Surrender</td>\n",
       "      <td>Neutered Male</td>\n",
       "      <td>2014</td>\n",
       "      <td>A047759</td>\n",
       "      <td>Partner</td>\n",
       "      <td>Transfer</td>\n",
       "      <td>Neutered Male</td>\n",
       "      <td>2014</td>\n",
       "    </tr>\n",
       "    <tr>\n",
       "      <th>4</th>\n",
       "      <td>A134067</td>\n",
       "      <td>Dog</td>\n",
       "      <td>Injured</td>\n",
       "      <td>Public Assist</td>\n",
       "      <td>Neutered Male</td>\n",
       "      <td>2013</td>\n",
       "      <td>A134067</td>\n",
       "      <td>NaN</td>\n",
       "      <td>Return to Owner</td>\n",
       "      <td>Neutered Male</td>\n",
       "      <td>2013</td>\n",
       "    </tr>\n",
       "  </tbody>\n",
       "</table>\n",
       "</div>"
      ],
      "text/plain": [
       "  animal_id_intake animal_type intake_condition      intake_type  \\\n",
       "0          A006100         Dog           Normal            Stray   \n",
       "1          A006100         Dog           Normal    Public Assist   \n",
       "2          A006100         Dog           Normal    Public Assist   \n",
       "3          A047759         Dog           Normal  Owner Surrender   \n",
       "4          A134067         Dog          Injured    Public Assist   \n",
       "\n",
       "  sex_upon_intake  intake_year animal_id_outcome outcome_subtype  \\\n",
       "0   Neutered Male         2017           A006100             NaN   \n",
       "1   Neutered Male         2014           A006100             NaN   \n",
       "2   Neutered Male         2014           A006100             NaN   \n",
       "3   Neutered Male         2014           A047759         Partner   \n",
       "4   Neutered Male         2013           A134067             NaN   \n",
       "\n",
       "      outcome_type sex_upon_outcome  outcome_year  \n",
       "0  Return to Owner    Neutered Male          2017  \n",
       "1  Return to Owner    Neutered Male          2014  \n",
       "2  Return to Owner    Neutered Male          2014  \n",
       "3         Transfer    Neutered Male          2014  \n",
       "4  Return to Owner    Neutered Male          2013  "
      ]
     },
     "execution_count": 4,
     "metadata": {},
     "output_type": "execute_result"
    }
   ],
   "source": [
    "AACdata.head()"
   ]
  },
  {
   "cell_type": "markdown",
   "id": "3cf149b4",
   "metadata": {},
   "source": [
    "## Followed by some data wrangling"
   ]
  },
  {
   "cell_type": "code",
   "execution_count": 16,
   "id": "0d8ecde0",
   "metadata": {},
   "outputs": [],
   "source": [
    "# AACdata = AACdata.drop(\"outcome_subtype\", axis=1)\n",
    "# AACdata = AACdata.drop(\"animal_id_outcome\", axis=1)"
   ]
  },
  {
   "cell_type": "markdown",
   "id": "e175bb5e",
   "metadata": {},
   "source": [
    "## Now a bit of recoding"
   ]
  },
  {
   "cell_type": "code",
   "execution_count": 13,
   "id": "9c94f76f",
   "metadata": {},
   "outputs": [],
   "source": [
    "def Euth(series):\n",
    "    if series == \"Euthanasia\":\n",
    "        return 0\n",
    "    if series != \"Euthanasia\":\n",
    "        return 1\n",
    "\n",
    "AACdata[\"OutcomeR\"] = AACdata[\"outcome_type\"].apply(Euth)"
   ]
  },
  {
   "cell_type": "code",
   "execution_count": 17,
   "id": "fc22146c",
   "metadata": {},
   "outputs": [
    {
     "data": {
      "text/html": [
       "<div>\n",
       "<style scoped>\n",
       "    .dataframe tbody tr th:only-of-type {\n",
       "        vertical-align: middle;\n",
       "    }\n",
       "\n",
       "    .dataframe tbody tr th {\n",
       "        vertical-align: top;\n",
       "    }\n",
       "\n",
       "    .dataframe thead th {\n",
       "        text-align: right;\n",
       "    }\n",
       "</style>\n",
       "<table border=\"1\" class=\"dataframe\">\n",
       "  <thead>\n",
       "    <tr style=\"text-align: right;\">\n",
       "      <th></th>\n",
       "      <th>animal_id_intake</th>\n",
       "      <th>animal_type</th>\n",
       "      <th>intake_condition</th>\n",
       "      <th>intake_type</th>\n",
       "      <th>sex_upon_intake</th>\n",
       "      <th>intake_year</th>\n",
       "      <th>outcome_type</th>\n",
       "      <th>sex_upon_outcome</th>\n",
       "      <th>outcome_year</th>\n",
       "      <th>OutcomeR</th>\n",
       "    </tr>\n",
       "  </thead>\n",
       "  <tbody>\n",
       "    <tr>\n",
       "      <th>0</th>\n",
       "      <td>A006100</td>\n",
       "      <td>Dog</td>\n",
       "      <td>Normal</td>\n",
       "      <td>Stray</td>\n",
       "      <td>Neutered Male</td>\n",
       "      <td>2017</td>\n",
       "      <td>Return to Owner</td>\n",
       "      <td>Neutered Male</td>\n",
       "      <td>2017</td>\n",
       "      <td>1</td>\n",
       "    </tr>\n",
       "    <tr>\n",
       "      <th>1</th>\n",
       "      <td>A006100</td>\n",
       "      <td>Dog</td>\n",
       "      <td>Normal</td>\n",
       "      <td>Public Assist</td>\n",
       "      <td>Neutered Male</td>\n",
       "      <td>2014</td>\n",
       "      <td>Return to Owner</td>\n",
       "      <td>Neutered Male</td>\n",
       "      <td>2014</td>\n",
       "      <td>1</td>\n",
       "    </tr>\n",
       "    <tr>\n",
       "      <th>2</th>\n",
       "      <td>A006100</td>\n",
       "      <td>Dog</td>\n",
       "      <td>Normal</td>\n",
       "      <td>Public Assist</td>\n",
       "      <td>Neutered Male</td>\n",
       "      <td>2014</td>\n",
       "      <td>Return to Owner</td>\n",
       "      <td>Neutered Male</td>\n",
       "      <td>2014</td>\n",
       "      <td>1</td>\n",
       "    </tr>\n",
       "    <tr>\n",
       "      <th>3</th>\n",
       "      <td>A047759</td>\n",
       "      <td>Dog</td>\n",
       "      <td>Normal</td>\n",
       "      <td>Owner Surrender</td>\n",
       "      <td>Neutered Male</td>\n",
       "      <td>2014</td>\n",
       "      <td>Transfer</td>\n",
       "      <td>Neutered Male</td>\n",
       "      <td>2014</td>\n",
       "      <td>1</td>\n",
       "    </tr>\n",
       "    <tr>\n",
       "      <th>4</th>\n",
       "      <td>A134067</td>\n",
       "      <td>Dog</td>\n",
       "      <td>Injured</td>\n",
       "      <td>Public Assist</td>\n",
       "      <td>Neutered Male</td>\n",
       "      <td>2013</td>\n",
       "      <td>Return to Owner</td>\n",
       "      <td>Neutered Male</td>\n",
       "      <td>2013</td>\n",
       "      <td>1</td>\n",
       "    </tr>\n",
       "  </tbody>\n",
       "</table>\n",
       "</div>"
      ],
      "text/plain": [
       "  animal_id_intake animal_type intake_condition      intake_type  \\\n",
       "0          A006100         Dog           Normal            Stray   \n",
       "1          A006100         Dog           Normal    Public Assist   \n",
       "2          A006100         Dog           Normal    Public Assist   \n",
       "3          A047759         Dog           Normal  Owner Surrender   \n",
       "4          A134067         Dog          Injured    Public Assist   \n",
       "\n",
       "  sex_upon_intake  intake_year     outcome_type sex_upon_outcome  \\\n",
       "0   Neutered Male         2017  Return to Owner    Neutered Male   \n",
       "1   Neutered Male         2014  Return to Owner    Neutered Male   \n",
       "2   Neutered Male         2014  Return to Owner    Neutered Male   \n",
       "3   Neutered Male         2014         Transfer    Neutered Male   \n",
       "4   Neutered Male         2013  Return to Owner    Neutered Male   \n",
       "\n",
       "   outcome_year  OutcomeR  \n",
       "0          2017         1  \n",
       "1          2014         1  \n",
       "2          2014         1  \n",
       "3          2014         1  \n",
       "4          2013         1  "
      ]
     },
     "execution_count": 17,
     "metadata": {},
     "output_type": "execute_result"
    }
   ],
   "source": [
    "AACdata.head()"
   ]
  },
  {
   "cell_type": "code",
   "execution_count": 10,
   "id": "b7143470",
   "metadata": {},
   "outputs": [
    {
     "data": {
      "text/plain": [
       "1    71928\n",
       "0     2977\n",
       "Name: OutcomeR, dtype: int64"
      ]
     },
     "execution_count": 10,
     "metadata": {},
     "output_type": "execute_result"
    }
   ],
   "source": [
    "AACdata.OutcomeR.value_counts()"
   ]
  },
  {
   "cell_type": "markdown",
   "id": "13895b4d",
   "metadata": {},
   "source": [
    "## --- Out of 74,905 intakes, 2,977 of them were euthanized between 2013-2017."
   ]
  },
  {
   "cell_type": "markdown",
   "id": "e1a0493e",
   "metadata": {},
   "source": [
    "## Now let's look at those numbers by year"
   ]
  },
  {
   "cell_type": "code",
   "execution_count": 16,
   "id": "96144643",
   "metadata": {},
   "outputs": [],
   "source": [
    "# Separating out the data by year\n",
    "AAC2013 = AACdata[(AACdata.intake_year == 2013)]\n",
    "AAC2014 = AACdata[(AACdata.intake_year == 2014)]\n",
    "AAC2015 = AACdata[(AACdata.intake_year == 2015)]\n",
    "AAC2016 = AACdata[(AACdata.intake_year == 2016)]\n",
    "AAC2017 = AACdata[(AACdata.intake_year == 2017)]"
   ]
  },
  {
   "cell_type": "code",
   "execution_count": 33,
   "id": "4891ef78",
   "metadata": {},
   "outputs": [],
   "source": [
    "# Counting up the values\n",
    "AAC2013Counts = pd.DataFrame(AAC2013.OutcomeR.value_counts())\n",
    "AAC2014Counts = pd.DataFrame(AAC2014.OutcomeR.value_counts())\n",
    "AAC2015Counts = pd.DataFrame(AAC2015.OutcomeR.value_counts())\n",
    "AAC2016Counts = pd.DataFrame(AAC2016.OutcomeR.value_counts())\n",
    "AAC2017Counts = pd.DataFrame(AAC2017.OutcomeR.value_counts())"
   ]
  },
  {
   "cell_type": "code",
   "execution_count": 57,
   "id": "84f1564a",
   "metadata": {},
   "outputs": [
    {
     "data": {
      "text/html": [
       "<div>\n",
       "<style scoped>\n",
       "    .dataframe tbody tr th:only-of-type {\n",
       "        vertical-align: middle;\n",
       "    }\n",
       "\n",
       "    .dataframe tbody tr th {\n",
       "        vertical-align: top;\n",
       "    }\n",
       "\n",
       "    .dataframe thead th {\n",
       "        text-align: right;\n",
       "    }\n",
       "</style>\n",
       "<table border=\"1\" class=\"dataframe\">\n",
       "  <thead>\n",
       "    <tr style=\"text-align: right;\">\n",
       "      <th></th>\n",
       "      <th>OutcomeR</th>\n",
       "    </tr>\n",
       "  </thead>\n",
       "  <tbody>\n",
       "    <tr>\n",
       "      <th>1</th>\n",
       "      <td>3679</td>\n",
       "    </tr>\n",
       "    <tr>\n",
       "      <th>0</th>\n",
       "      <td>261</td>\n",
       "    </tr>\n",
       "  </tbody>\n",
       "</table>\n",
       "</div>"
      ],
      "text/plain": [
       "   OutcomeR\n",
       "1      3679\n",
       "0       261"
      ]
     },
     "execution_count": 57,
     "metadata": {},
     "output_type": "execute_result"
    }
   ],
   "source": [
    "AAC2013Counts.head()"
   ]
  },
  {
   "cell_type": "code",
   "execution_count": 56,
   "id": "02b6bb5e",
   "metadata": {},
   "outputs": [
    {
     "data": {
      "text/html": [
       "<div>\n",
       "<style scoped>\n",
       "    .dataframe tbody tr th:only-of-type {\n",
       "        vertical-align: middle;\n",
       "    }\n",
       "\n",
       "    .dataframe tbody tr th {\n",
       "        vertical-align: top;\n",
       "    }\n",
       "\n",
       "    .dataframe thead th {\n",
       "        text-align: right;\n",
       "    }\n",
       "</style>\n",
       "<table border=\"1\" class=\"dataframe\">\n",
       "  <thead>\n",
       "    <tr style=\"text-align: right;\">\n",
       "      <th></th>\n",
       "      <th>OutcomeR</th>\n",
       "    </tr>\n",
       "  </thead>\n",
       "  <tbody>\n",
       "    <tr>\n",
       "      <th>1</th>\n",
       "      <td>15965</td>\n",
       "    </tr>\n",
       "    <tr>\n",
       "      <th>0</th>\n",
       "      <td>342</td>\n",
       "    </tr>\n",
       "  </tbody>\n",
       "</table>\n",
       "</div>"
      ],
      "text/plain": [
       "   OutcomeR\n",
       "1     15965\n",
       "0       342"
      ]
     },
     "execution_count": 56,
     "metadata": {},
     "output_type": "execute_result"
    }
   ],
   "source": [
    "AAC2017Counts.head()"
   ]
  },
  {
   "cell_type": "code",
   "execution_count": null,
   "id": "0dc0dedc",
   "metadata": {},
   "outputs": [],
   "source": [
    "# There is a significant change between intakes for 2013 and 2017, but the Euthanasia rates didn't change as drastically.\n",
    "# Since the data is older and doesn't line up with our SAC data, I will leave this here."
   ]
  }
 ],
 "metadata": {
  "kernelspec": {
   "display_name": "Python 3 (ipykernel)",
   "language": "python",
   "name": "python3"
  },
  "language_info": {
   "codemirror_mode": {
    "name": "ipython",
    "version": 3
   },
   "file_extension": ".py",
   "mimetype": "text/x-python",
   "name": "python",
   "nbconvert_exporter": "python",
   "pygments_lexer": "ipython3",
   "version": "3.9.7"
  }
 },
 "nbformat": 4,
 "nbformat_minor": 5
}
