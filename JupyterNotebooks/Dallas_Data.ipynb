{
 "cells": [
  {
   "cell_type": "markdown",
   "id": "de5b25d0",
   "metadata": {},
   "source": [
    "## Import Packages"
   ]
  },
  {
   "cell_type": "code",
   "execution_count": 1,
   "id": "fe13a7a4",
   "metadata": {},
   "outputs": [],
   "source": [
    "import pandas as pd"
   ]
  },
  {
   "cell_type": "code",
   "execution_count": 2,
   "id": "0b810f59",
   "metadata": {},
   "outputs": [],
   "source": [
    "import numpy as np"
   ]
  },
  {
   "cell_type": "code",
   "execution_count": 3,
   "id": "7dcd6db6",
   "metadata": {},
   "outputs": [],
   "source": [
    "import seaborn as sns"
   ]
  },
  {
   "cell_type": "code",
   "execution_count": 38,
   "id": "e12fff1b",
   "metadata": {},
   "outputs": [],
   "source": [
    "from scipy.stats import norm\n",
    "from scipy import stats"
   ]
  },
  {
   "cell_type": "markdown",
   "id": "d4ded197",
   "metadata": {},
   "source": [
    "## Import Data"
   ]
  },
  {
   "cell_type": "code",
   "execution_count": 4,
   "id": "7e33f840",
   "metadata": {},
   "outputs": [],
   "source": [
    "dallasData = pd.read_csv(\"C:/Users/Admin/Documents/Notebooks/df_Dallas.csv\")"
   ]
  },
  {
   "cell_type": "markdown",
   "id": "98ae1b07",
   "metadata": {},
   "source": [
    "## Data Wrangling"
   ]
  },
  {
   "cell_type": "code",
   "execution_count": 7,
   "id": "1cfe0e3d",
   "metadata": {
    "scrolled": true
   },
   "outputs": [
    {
     "data": {
      "text/plain": [
       "Index(['Animal Id', 'Animal Type', 'Animal Breed', 'Kennel Number',\n",
       "       'Kennel Status', 'Source Id', 'Intake Type', 'Intake Subtype',\n",
       "       'Intake Total', 'Reason', 'Staff Id', 'Intake Date', 'Intake Time',\n",
       "       'Due Out', 'Intake Condition', 'Outcome Type', 'Outcome Subtype',\n",
       "       'Outcome Date', 'Outcome Time', 'Impound Number', 'Outcome Condition',\n",
       "       'Month', 'Year'],\n",
       "      dtype='object')"
      ]
     },
     "execution_count": 7,
     "metadata": {},
     "output_type": "execute_result"
    }
   ],
   "source": [
    "dallasData.columns"
   ]
  },
  {
   "cell_type": "code",
   "execution_count": 13,
   "id": "5297ebb4",
   "metadata": {},
   "outputs": [],
   "source": [
    "dallasData['Intake Date'] = pd.to_datetime(dallasData['Intake Date'])"
   ]
  },
  {
   "cell_type": "code",
   "execution_count": 18,
   "id": "49be54a1",
   "metadata": {},
   "outputs": [],
   "source": [
    "dallasData['year'] = dallasData['Intake Date'].dt.year\n",
    "dallasData['month'] = dallasData['Intake Date'].dt.month\n",
    "dallasData['dayofweek'] = dallasData['Intake Date'].dt.dayofweek\n",
    "dallasData['week'] = dallasData['Intake Date'].dt.isocalendar().week"
   ]
  },
  {
   "cell_type": "code",
   "execution_count": 25,
   "id": "4805a073",
   "metadata": {},
   "outputs": [],
   "source": [
    "pd.set_option(\"display.max_columns\",None)"
   ]
  },
  {
   "cell_type": "code",
   "execution_count": 37,
   "id": "a2817beb",
   "metadata": {},
   "outputs": [
    {
     "data": {
      "text/html": [
       "<div>\n",
       "<style scoped>\n",
       "    .dataframe tbody tr th:only-of-type {\n",
       "        vertical-align: middle;\n",
       "    }\n",
       "\n",
       "    .dataframe tbody tr th {\n",
       "        vertical-align: top;\n",
       "    }\n",
       "\n",
       "    .dataframe thead th {\n",
       "        text-align: right;\n",
       "    }\n",
       "</style>\n",
       "<table border=\"1\" class=\"dataframe\">\n",
       "  <thead>\n",
       "    <tr style=\"text-align: right;\">\n",
       "      <th></th>\n",
       "      <th>Animal Id</th>\n",
       "      <th>Animal Type</th>\n",
       "      <th>Animal Breed</th>\n",
       "      <th>Kennel Number</th>\n",
       "      <th>Kennel Status</th>\n",
       "      <th>Source Id</th>\n",
       "      <th>Intake Type</th>\n",
       "      <th>Intake Subtype</th>\n",
       "      <th>Intake Total</th>\n",
       "      <th>Reason</th>\n",
       "      <th>Staff Id</th>\n",
       "      <th>Intake Date</th>\n",
       "      <th>Intake Time</th>\n",
       "      <th>Due Out</th>\n",
       "      <th>Intake Condition</th>\n",
       "      <th>Outcome Type</th>\n",
       "      <th>Outcome Subtype</th>\n",
       "      <th>Outcome Date</th>\n",
       "      <th>Outcome Time</th>\n",
       "      <th>Impound Number</th>\n",
       "      <th>Outcome Condition</th>\n",
       "      <th>Month</th>\n",
       "      <th>Year</th>\n",
       "      <th>year</th>\n",
       "      <th>month</th>\n",
       "      <th>dayofweek</th>\n",
       "      <th>week</th>\n",
       "      <th>Outcome Type Recoded</th>\n",
       "    </tr>\n",
       "  </thead>\n",
       "  <tbody>\n",
       "    <tr>\n",
       "      <th>0</th>\n",
       "      <td>A1093869</td>\n",
       "      <td>CAT</td>\n",
       "      <td>ABYSSINIAN</td>\n",
       "      <td>FOUND</td>\n",
       "      <td>IMPOUNDED</td>\n",
       "      <td>P0916032</td>\n",
       "      <td>STRAY</td>\n",
       "      <td>WEB</td>\n",
       "      <td>1</td>\n",
       "      <td>NaN</td>\n",
       "      <td>WEB</td>\n",
       "      <td>2020-01-21</td>\n",
       "      <td>12:25:00</td>\n",
       "      <td>1/21/2020</td>\n",
       "      <td>NORMAL</td>\n",
       "      <td>FOUND EXP</td>\n",
       "      <td>OTHER</td>\n",
       "      <td>2/21/2020</td>\n",
       "      <td>0:00:00</td>\n",
       "      <td>K20-495021</td>\n",
       "      <td>NaN</td>\n",
       "      <td>JAN.2020</td>\n",
       "      <td>FY2020</td>\n",
       "      <td>2020</td>\n",
       "      <td>1</td>\n",
       "      <td>1</td>\n",
       "      <td>4</td>\n",
       "      <td>False</td>\n",
       "    </tr>\n",
       "    <tr>\n",
       "      <th>1</th>\n",
       "      <td>A1092513</td>\n",
       "      <td>CAT</td>\n",
       "      <td>ABYSSINIAN</td>\n",
       "      <td>LOST</td>\n",
       "      <td>IMPOUNDED</td>\n",
       "      <td>P0914189</td>\n",
       "      <td>STRAY</td>\n",
       "      <td>WEB</td>\n",
       "      <td>1</td>\n",
       "      <td>NaN</td>\n",
       "      <td>WEB</td>\n",
       "      <td>2020-01-03</td>\n",
       "      <td>13:25:00</td>\n",
       "      <td>1/4/2020</td>\n",
       "      <td>NORMAL</td>\n",
       "      <td>LOST EXP</td>\n",
       "      <td>OTHER</td>\n",
       "      <td>2/4/2020</td>\n",
       "      <td>0:00:00</td>\n",
       "      <td>K20-493070</td>\n",
       "      <td>NaN</td>\n",
       "      <td>JAN.2020</td>\n",
       "      <td>FY2020</td>\n",
       "      <td>2020</td>\n",
       "      <td>1</td>\n",
       "      <td>4</td>\n",
       "      <td>1</td>\n",
       "      <td>False</td>\n",
       "    </tr>\n",
       "    <tr>\n",
       "      <th>2</th>\n",
       "      <td>A1004406</td>\n",
       "      <td>CAT</td>\n",
       "      <td>AMER CURL SH</td>\n",
       "      <td>QC 07</td>\n",
       "      <td>LAB</td>\n",
       "      <td>P9991765</td>\n",
       "      <td>STRAY</td>\n",
       "      <td>AT LARGE</td>\n",
       "      <td>1</td>\n",
       "      <td>OTHRINTAKS</td>\n",
       "      <td>RK1765</td>\n",
       "      <td>2019-11-13</td>\n",
       "      <td>15:51:00</td>\n",
       "      <td>11/23/2019</td>\n",
       "      <td>APP WNL</td>\n",
       "      <td>EUTHANIZED</td>\n",
       "      <td>BITE</td>\n",
       "      <td>11/28/2019</td>\n",
       "      <td>11:09:00</td>\n",
       "      <td>K19-487350</td>\n",
       "      <td>APP WNL</td>\n",
       "      <td>NOV.2019</td>\n",
       "      <td>FY2020</td>\n",
       "      <td>2019</td>\n",
       "      <td>11</td>\n",
       "      <td>2</td>\n",
       "      <td>46</td>\n",
       "      <td>True</td>\n",
       "    </tr>\n",
       "    <tr>\n",
       "      <th>3</th>\n",
       "      <td>A1105658</td>\n",
       "      <td>CAT</td>\n",
       "      <td>AMER CURL SH</td>\n",
       "      <td>LOST</td>\n",
       "      <td>IMPOUNDED</td>\n",
       "      <td>P0934494</td>\n",
       "      <td>STRAY</td>\n",
       "      <td>WEB</td>\n",
       "      <td>1</td>\n",
       "      <td>NaN</td>\n",
       "      <td>WEB</td>\n",
       "      <td>2020-07-29</td>\n",
       "      <td>13:25:00</td>\n",
       "      <td>8/8/2020</td>\n",
       "      <td>NORMAL</td>\n",
       "      <td>LOST EXP</td>\n",
       "      <td>OTHER</td>\n",
       "      <td>9/8/2020</td>\n",
       "      <td>0:00:00</td>\n",
       "      <td>K20-510672</td>\n",
       "      <td>NaN</td>\n",
       "      <td>JUL.2020</td>\n",
       "      <td>FY2020</td>\n",
       "      <td>2020</td>\n",
       "      <td>7</td>\n",
       "      <td>2</td>\n",
       "      <td>31</td>\n",
       "      <td>False</td>\n",
       "    </tr>\n",
       "    <tr>\n",
       "      <th>4</th>\n",
       "      <td>A1106175</td>\n",
       "      <td>CAT</td>\n",
       "      <td>AMER CURL SH</td>\n",
       "      <td>LOST</td>\n",
       "      <td>IMPOUNDED</td>\n",
       "      <td>P0935441</td>\n",
       "      <td>STRAY</td>\n",
       "      <td>WEB</td>\n",
       "      <td>1</td>\n",
       "      <td>NaN</td>\n",
       "      <td>WEB</td>\n",
       "      <td>2020-07-28</td>\n",
       "      <td>15:25:00</td>\n",
       "      <td>8/21/2020</td>\n",
       "      <td>NORMAL</td>\n",
       "      <td>LOST EXP</td>\n",
       "      <td>OTHER</td>\n",
       "      <td>9/21/2020</td>\n",
       "      <td>0:00:00</td>\n",
       "      <td>K20-511379</td>\n",
       "      <td>NaN</td>\n",
       "      <td>JUL.2020</td>\n",
       "      <td>FY2020</td>\n",
       "      <td>2020</td>\n",
       "      <td>7</td>\n",
       "      <td>1</td>\n",
       "      <td>31</td>\n",
       "      <td>False</td>\n",
       "    </tr>\n",
       "    <tr>\n",
       "      <th>...</th>\n",
       "      <td>...</td>\n",
       "      <td>...</td>\n",
       "      <td>...</td>\n",
       "      <td>...</td>\n",
       "      <td>...</td>\n",
       "      <td>...</td>\n",
       "      <td>...</td>\n",
       "      <td>...</td>\n",
       "      <td>...</td>\n",
       "      <td>...</td>\n",
       "      <td>...</td>\n",
       "      <td>...</td>\n",
       "      <td>...</td>\n",
       "      <td>...</td>\n",
       "      <td>...</td>\n",
       "      <td>...</td>\n",
       "      <td>...</td>\n",
       "      <td>...</td>\n",
       "      <td>...</td>\n",
       "      <td>...</td>\n",
       "      <td>...</td>\n",
       "      <td>...</td>\n",
       "      <td>...</td>\n",
       "      <td>...</td>\n",
       "      <td>...</td>\n",
       "      <td>...</td>\n",
       "      <td>...</td>\n",
       "      <td>...</td>\n",
       "    </tr>\n",
       "    <tr>\n",
       "      <th>30575</th>\n",
       "      <td>A1088204</td>\n",
       "      <td>DOG</td>\n",
       "      <td>YORKSHIRE TERR</td>\n",
       "      <td>CC 12</td>\n",
       "      <td>UNAVAILABLE</td>\n",
       "      <td>P0876335</td>\n",
       "      <td>TRANSFER</td>\n",
       "      <td>SURGERY</td>\n",
       "      <td>1</td>\n",
       "      <td>MEDICAL</td>\n",
       "      <td>CW</td>\n",
       "      <td>2019-12-14</td>\n",
       "      <td>7:36:00</td>\n",
       "      <td>12/14/2019</td>\n",
       "      <td>APP WNL</td>\n",
       "      <td>TRANSFER</td>\n",
       "      <td>SURGERY</td>\n",
       "      <td>12/14/2019</td>\n",
       "      <td>16:56:00</td>\n",
       "      <td>K19-490794</td>\n",
       "      <td>APP WNL</td>\n",
       "      <td>DEC.2019</td>\n",
       "      <td>FY2020</td>\n",
       "      <td>2019</td>\n",
       "      <td>12</td>\n",
       "      <td>5</td>\n",
       "      <td>50</td>\n",
       "      <td>False</td>\n",
       "    </tr>\n",
       "    <tr>\n",
       "      <th>30576</th>\n",
       "      <td>A1088866</td>\n",
       "      <td>DOG</td>\n",
       "      <td>YORKSHIRE TERR</td>\n",
       "      <td>LFSD 17</td>\n",
       "      <td>UNAVAILABLE</td>\n",
       "      <td>P0908955</td>\n",
       "      <td>OWNER SURRENDER</td>\n",
       "      <td>RETURN30</td>\n",
       "      <td>1</td>\n",
       "      <td>MEDICAL</td>\n",
       "      <td>BW</td>\n",
       "      <td>2019-11-26</td>\n",
       "      <td>11:49:00</td>\n",
       "      <td>11/26/2019</td>\n",
       "      <td>APP WNL</td>\n",
       "      <td>TRANSFER</td>\n",
       "      <td>MEDICAL-CONTAGIOUS</td>\n",
       "      <td>11/27/2019</td>\n",
       "      <td>14:32:00</td>\n",
       "      <td>K19-488896</td>\n",
       "      <td>APP SICK</td>\n",
       "      <td>NOV.2019</td>\n",
       "      <td>FY2020</td>\n",
       "      <td>2019</td>\n",
       "      <td>11</td>\n",
       "      <td>1</td>\n",
       "      <td>48</td>\n",
       "      <td>False</td>\n",
       "    </tr>\n",
       "    <tr>\n",
       "      <th>30577</th>\n",
       "      <td>A1088867</td>\n",
       "      <td>DOG</td>\n",
       "      <td>YORKSHIRE TERR</td>\n",
       "      <td>LFSD 17</td>\n",
       "      <td>UNAVAILABLE</td>\n",
       "      <td>P0908955</td>\n",
       "      <td>OWNER SURRENDER</td>\n",
       "      <td>RETURN30</td>\n",
       "      <td>1</td>\n",
       "      <td>MEDICAL</td>\n",
       "      <td>BW</td>\n",
       "      <td>2019-11-26</td>\n",
       "      <td>11:53:00</td>\n",
       "      <td>11/26/2019</td>\n",
       "      <td>APP WNL</td>\n",
       "      <td>TRANSFER</td>\n",
       "      <td>MEDICAL-CONTAGIOUS</td>\n",
       "      <td>11/27/2019</td>\n",
       "      <td>14:32:00</td>\n",
       "      <td>K19-488897</td>\n",
       "      <td>APP SICK</td>\n",
       "      <td>NOV.2019</td>\n",
       "      <td>FY2020</td>\n",
       "      <td>2019</td>\n",
       "      <td>11</td>\n",
       "      <td>1</td>\n",
       "      <td>48</td>\n",
       "      <td>False</td>\n",
       "    </tr>\n",
       "    <tr>\n",
       "      <th>30578</th>\n",
       "      <td>A1089272</td>\n",
       "      <td>DOG</td>\n",
       "      <td>YORKSHIRE TERR</td>\n",
       "      <td>CC 09</td>\n",
       "      <td>AVAILABLE</td>\n",
       "      <td>P0909010</td>\n",
       "      <td>STRAY</td>\n",
       "      <td>AT LARGE</td>\n",
       "      <td>1</td>\n",
       "      <td>OTHRINTAKS</td>\n",
       "      <td>CDM</td>\n",
       "      <td>2019-11-24</td>\n",
       "      <td>10:05:00</td>\n",
       "      <td>11/28/2019</td>\n",
       "      <td>APP INJ</td>\n",
       "      <td>TRANSFER</td>\n",
       "      <td>MEDICAL-CONTAGIOUS</td>\n",
       "      <td>12/2/2019</td>\n",
       "      <td>15:42:00</td>\n",
       "      <td>K19-488645</td>\n",
       "      <td>APP INJ</td>\n",
       "      <td>NOV.2019</td>\n",
       "      <td>FY2020</td>\n",
       "      <td>2019</td>\n",
       "      <td>11</td>\n",
       "      <td>6</td>\n",
       "      <td>47</td>\n",
       "      <td>False</td>\n",
       "    </tr>\n",
       "    <tr>\n",
       "      <th>30579</th>\n",
       "      <td>A1090060</td>\n",
       "      <td>DOG</td>\n",
       "      <td>YORKSHIRE TERR</td>\n",
       "      <td>INJD 013</td>\n",
       "      <td>UNAVAILABLE</td>\n",
       "      <td>P0910282</td>\n",
       "      <td>OWNER SURRENDER</td>\n",
       "      <td>GENERAL</td>\n",
       "      <td>1</td>\n",
       "      <td>MEDICAL</td>\n",
       "      <td>MRY1776</td>\n",
       "      <td>2019-12-04</td>\n",
       "      <td>14:00:00</td>\n",
       "      <td>12/4/2019</td>\n",
       "      <td>APP SICK</td>\n",
       "      <td>TRANSFER</td>\n",
       "      <td>MEDICAL-CONTAGIOUS</td>\n",
       "      <td>12/5/2019</td>\n",
       "      <td>11:20:00</td>\n",
       "      <td>K19-489714</td>\n",
       "      <td>APP SICK</td>\n",
       "      <td>DEC.2019</td>\n",
       "      <td>FY2020</td>\n",
       "      <td>2019</td>\n",
       "      <td>12</td>\n",
       "      <td>2</td>\n",
       "      <td>49</td>\n",
       "      <td>False</td>\n",
       "    </tr>\n",
       "  </tbody>\n",
       "</table>\n",
       "<p>30580 rows × 28 columns</p>\n",
       "</div>"
      ],
      "text/plain": [
       "      Animal Id Animal Type    Animal Breed Kennel Number Kennel Status  \\\n",
       "0      A1093869         CAT      ABYSSINIAN         FOUND     IMPOUNDED   \n",
       "1      A1092513         CAT      ABYSSINIAN          LOST     IMPOUNDED   \n",
       "2      A1004406         CAT    AMER CURL SH         QC 07           LAB   \n",
       "3      A1105658         CAT    AMER CURL SH          LOST     IMPOUNDED   \n",
       "4      A1106175         CAT    AMER CURL SH          LOST     IMPOUNDED   \n",
       "...         ...         ...             ...           ...           ...   \n",
       "30575  A1088204         DOG  YORKSHIRE TERR         CC 12   UNAVAILABLE   \n",
       "30576  A1088866         DOG  YORKSHIRE TERR       LFSD 17   UNAVAILABLE   \n",
       "30577  A1088867         DOG  YORKSHIRE TERR       LFSD 17   UNAVAILABLE   \n",
       "30578  A1089272         DOG  YORKSHIRE TERR         CC 09     AVAILABLE   \n",
       "30579  A1090060         DOG  YORKSHIRE TERR      INJD 013   UNAVAILABLE   \n",
       "\n",
       "      Source Id      Intake Type Intake Subtype  Intake Total      Reason  \\\n",
       "0      P0916032            STRAY            WEB             1         NaN   \n",
       "1      P0914189            STRAY            WEB             1         NaN   \n",
       "2      P9991765            STRAY       AT LARGE             1  OTHRINTAKS   \n",
       "3      P0934494            STRAY            WEB             1         NaN   \n",
       "4      P0935441            STRAY            WEB             1         NaN   \n",
       "...         ...              ...            ...           ...         ...   \n",
       "30575  P0876335         TRANSFER        SURGERY             1     MEDICAL   \n",
       "30576  P0908955  OWNER SURRENDER       RETURN30             1     MEDICAL   \n",
       "30577  P0908955  OWNER SURRENDER       RETURN30             1     MEDICAL   \n",
       "30578  P0909010            STRAY       AT LARGE             1  OTHRINTAKS   \n",
       "30579  P0910282  OWNER SURRENDER        GENERAL             1     MEDICAL   \n",
       "\n",
       "      Staff Id Intake Date Intake Time     Due Out Intake Condition  \\\n",
       "0          WEB  2020-01-21    12:25:00   1/21/2020           NORMAL   \n",
       "1          WEB  2020-01-03    13:25:00    1/4/2020           NORMAL   \n",
       "2       RK1765  2019-11-13    15:51:00  11/23/2019          APP WNL   \n",
       "3          WEB  2020-07-29    13:25:00    8/8/2020           NORMAL   \n",
       "4          WEB  2020-07-28    15:25:00   8/21/2020           NORMAL   \n",
       "...        ...         ...         ...         ...              ...   \n",
       "30575       CW  2019-12-14     7:36:00  12/14/2019          APP WNL   \n",
       "30576       BW  2019-11-26    11:49:00  11/26/2019          APP WNL   \n",
       "30577       BW  2019-11-26    11:53:00  11/26/2019          APP WNL   \n",
       "30578      CDM  2019-11-24    10:05:00  11/28/2019          APP INJ   \n",
       "30579  MRY1776  2019-12-04    14:00:00   12/4/2019         APP SICK   \n",
       "\n",
       "      Outcome Type     Outcome Subtype Outcome Date Outcome Time  \\\n",
       "0        FOUND EXP               OTHER    2/21/2020      0:00:00   \n",
       "1         LOST EXP               OTHER     2/4/2020      0:00:00   \n",
       "2       EUTHANIZED                BITE   11/28/2019     11:09:00   \n",
       "3         LOST EXP               OTHER     9/8/2020      0:00:00   \n",
       "4         LOST EXP               OTHER    9/21/2020      0:00:00   \n",
       "...            ...                 ...          ...          ...   \n",
       "30575     TRANSFER             SURGERY   12/14/2019     16:56:00   \n",
       "30576     TRANSFER  MEDICAL-CONTAGIOUS   11/27/2019     14:32:00   \n",
       "30577     TRANSFER  MEDICAL-CONTAGIOUS   11/27/2019     14:32:00   \n",
       "30578     TRANSFER  MEDICAL-CONTAGIOUS    12/2/2019     15:42:00   \n",
       "30579     TRANSFER  MEDICAL-CONTAGIOUS    12/5/2019     11:20:00   \n",
       "\n",
       "      Impound Number Outcome Condition     Month    Year  year  month  \\\n",
       "0         K20-495021               NaN  JAN.2020  FY2020  2020      1   \n",
       "1         K20-493070               NaN  JAN.2020  FY2020  2020      1   \n",
       "2         K19-487350           APP WNL  NOV.2019  FY2020  2019     11   \n",
       "3         K20-510672               NaN  JUL.2020  FY2020  2020      7   \n",
       "4         K20-511379               NaN  JUL.2020  FY2020  2020      7   \n",
       "...              ...               ...       ...     ...   ...    ...   \n",
       "30575     K19-490794           APP WNL  DEC.2019  FY2020  2019     12   \n",
       "30576     K19-488896          APP SICK  NOV.2019  FY2020  2019     11   \n",
       "30577     K19-488897          APP SICK  NOV.2019  FY2020  2019     11   \n",
       "30578     K19-488645           APP INJ  NOV.2019  FY2020  2019     11   \n",
       "30579     K19-489714          APP SICK  DEC.2019  FY2020  2019     12   \n",
       "\n",
       "       dayofweek  week  Outcome Type Recoded  \n",
       "0              1     4                 False  \n",
       "1              4     1                 False  \n",
       "2              2    46                  True  \n",
       "3              2    31                 False  \n",
       "4              1    31                 False  \n",
       "...          ...   ...                   ...  \n",
       "30575          5    50                 False  \n",
       "30576          1    48                 False  \n",
       "30577          1    48                 False  \n",
       "30578          6    47                 False  \n",
       "30579          2    49                 False  \n",
       "\n",
       "[30580 rows x 28 columns]"
      ]
     },
     "execution_count": 37,
     "metadata": {},
     "output_type": "execute_result"
    }
   ],
   "source": [
    "dallasData"
   ]
  },
  {
   "cell_type": "code",
   "execution_count": 29,
   "id": "df3b8259",
   "metadata": {},
   "outputs": [
    {
     "data": {
      "text/plain": [
       "array(['FOUND EXP', 'LOST EXP', 'EUTHANIZED', 'ADOPTION',\n",
       "       'DEAD ON ARRIVAL', 'FOSTER', 'OTHER', 'TRANSFER',\n",
       "       'RETURNED TO OWNER', 'DIED', 'TREATMENT', 'DISPOSAL', 'MISSING'],\n",
       "      dtype=object)"
      ]
     },
     "execution_count": 29,
     "metadata": {},
     "output_type": "execute_result"
    }
   ],
   "source": [
    "dallasData['Outcome Type'].unique()"
   ]
  },
  {
   "cell_type": "code",
   "execution_count": 31,
   "id": "1642f112",
   "metadata": {},
   "outputs": [],
   "source": [
    "def outcome_recode(series):\n",
    "    if series ==  'EUTHANIZED':\n",
    "        return True\n",
    "    else:\n",
    "        return False"
   ]
  },
  {
   "cell_type": "code",
   "execution_count": 32,
   "id": "dfd25bf1",
   "metadata": {},
   "outputs": [],
   "source": [
    "dallasData['Outcome Type Recoded'] = dallasData['Outcome Type'].apply(outcome_recode)"
   ]
  },
  {
   "cell_type": "code",
   "execution_count": 33,
   "id": "01c7a05a",
   "metadata": {},
   "outputs": [
    {
     "data": {
      "text/plain": [
       "0        False\n",
       "1        False\n",
       "2         True\n",
       "3        False\n",
       "4        False\n",
       "         ...  \n",
       "30575    False\n",
       "30576    False\n",
       "30577    False\n",
       "30578    False\n",
       "30579    False\n",
       "Name: Outcome Type Recoded, Length: 30580, dtype: bool"
      ]
     },
     "execution_count": 33,
     "metadata": {},
     "output_type": "execute_result"
    }
   ],
   "source": [
    "dallasData['Outcome Type Recoded']"
   ]
  },
  {
   "cell_type": "code",
   "execution_count": 34,
   "id": "a6b95909",
   "metadata": {},
   "outputs": [],
   "source": [
    "dallasData.to_csv(\"DallasDataNew.csv\")"
   ]
  },
  {
   "cell_type": "markdown",
   "id": "269ad850",
   "metadata": {},
   "source": [
    "## Data Analysis"
   ]
  },
  {
   "cell_type": "markdown",
   "id": "baaa2a5e",
   "metadata": {},
   "source": [
    "### Simple T-Test to see if the day of the week mattered for Intake"
   ]
  },
  {
   "cell_type": "code",
   "execution_count": 41,
   "id": "19e52b43",
   "metadata": {},
   "outputs": [
    {
     "data": {
      "text/plain": [
       "<AxesSubplot:>"
      ]
     },
     "execution_count": 41,
     "metadata": {},
     "output_type": "execute_result"
    },
    {
     "data": {
      "image/png": "[encoded data removed]",
      "text/plain": [
       "<Figure size 432x288 with 1 Axes>"
      ]
     },
     "metadata": {
      "needs_background": "light"
     },
     "output_type": "display_data"
    }
   ],
   "source": [
    "dallasData['dayofweek'].hist() #To check for normal distribution"
   ]
  },
  {
   "cell_type": "markdown",
   "id": "3d5424c5",
   "metadata": {},
   "source": [
    "Wednesday has the highest # of Intakes"
   ]
  },
  {
   "cell_type": "code",
   "execution_count": 42,
   "id": "00d5ccaf",
   "metadata": {},
   "outputs": [
    {
     "data": {
      "text/plain": [
       "Ttest_1sampResult(statistic=83.92066650087406, pvalue=0.0)"
      ]
     },
     "execution_count": 42,
     "metadata": {},
     "output_type": "execute_result"
    }
   ],
   "source": [
    "stats.ttest_1samp(dallasData['dayofweek'], 2)     #Single Sample T-Test results, "
   ]
  },
  {
   "cell_type": "code",
   "execution_count": 46,
   "id": "204ddbb4",
   "metadata": {},
   "outputs": [
    {
     "data": {
      "text/plain": [
       "2.932177894048398"
      ]
     },
     "execution_count": 46,
     "metadata": {},
     "output_type": "execute_result"
    }
   ],
   "source": [
    "dallasData.dayofweek.mean() ## If Monday is 0 and Sunday is 6 the Population Mean is closer to Thursday or 3."
   ]
  },
  {
   "cell_type": "markdown",
   "id": "b4a230e8",
   "metadata": {},
   "source": [
    "### Independent Chi Square"
   ]
  },
  {
   "cell_type": "markdown",
   "id": "2353dc36",
   "metadata": {},
   "source": [
    "Create a Contingency Table"
   ]
  },
  {
   "cell_type": "code",
   "execution_count": 43,
   "id": "d62f4d48",
   "metadata": {},
   "outputs": [],
   "source": [
    "dallasData_crosstab = pd.crosstab(dallasData['Animal Type'], dallasData['Intake Type'])"
   ]
  },
  {
   "cell_type": "code",
   "execution_count": 44,
   "id": "1d40b432",
   "metadata": {},
   "outputs": [
    {
     "data": {
      "text/html": [
       "<div>\n",
       "<style scoped>\n",
       "    .dataframe tbody tr th:only-of-type {\n",
       "        vertical-align: middle;\n",
       "    }\n",
       "\n",
       "    .dataframe tbody tr th {\n",
       "        vertical-align: top;\n",
       "    }\n",
       "\n",
       "    .dataframe thead th {\n",
       "        text-align: right;\n",
       "    }\n",
       "</style>\n",
       "<table border=\"1\" class=\"dataframe\">\n",
       "  <thead>\n",
       "    <tr style=\"text-align: right;\">\n",
       "      <th>Intake Type</th>\n",
       "      <th>CONFISCATED</th>\n",
       "      <th>DISPOS REQ</th>\n",
       "      <th>FOSTER</th>\n",
       "      <th>KEEPSAFE</th>\n",
       "      <th>OWNER SURRENDER</th>\n",
       "      <th>STRAY</th>\n",
       "      <th>TRANSFER</th>\n",
       "      <th>TREATMENT</th>\n",
       "    </tr>\n",
       "    <tr>\n",
       "      <th>Animal Type</th>\n",
       "      <th></th>\n",
       "      <th></th>\n",
       "      <th></th>\n",
       "      <th></th>\n",
       "      <th></th>\n",
       "      <th></th>\n",
       "      <th></th>\n",
       "      <th></th>\n",
       "    </tr>\n",
       "  </thead>\n",
       "  <tbody>\n",
       "    <tr>\n",
       "      <th>CAT</th>\n",
       "      <td>162</td>\n",
       "      <td>17</td>\n",
       "      <td>2191</td>\n",
       "      <td>22</td>\n",
       "      <td>1198</td>\n",
       "      <td>3991</td>\n",
       "      <td>146</td>\n",
       "      <td>509</td>\n",
       "    </tr>\n",
       "    <tr>\n",
       "      <th>DOG</th>\n",
       "      <td>1063</td>\n",
       "      <td>18</td>\n",
       "      <td>1215</td>\n",
       "      <td>112</td>\n",
       "      <td>4494</td>\n",
       "      <td>13786</td>\n",
       "      <td>294</td>\n",
       "      <td>1362</td>\n",
       "    </tr>\n",
       "  </tbody>\n",
       "</table>\n",
       "</div>"
      ],
      "text/plain": [
       "Intake Type  CONFISCATED  DISPOS REQ  FOSTER  KEEPSAFE  OWNER SURRENDER  \\\n",
       "Animal Type                                                               \n",
       "CAT                  162          17    2191        22             1198   \n",
       "DOG                 1063          18    1215       112             4494   \n",
       "\n",
       "Intake Type  STRAY  TRANSFER  TREATMENT  \n",
       "Animal Type                              \n",
       "CAT           3991       146        509  \n",
       "DOG          13786       294       1362  "
      ]
     },
     "execution_count": 44,
     "metadata": {},
     "output_type": "execute_result"
    }
   ],
   "source": [
    "dallasData_crosstab     #Animal Type and Intake Type"
   ]
  },
  {
   "cell_type": "code",
   "execution_count": 45,
   "id": "05bf0d29",
   "metadata": {},
   "outputs": [
    {
     "data": {
      "text/plain": [
       "(2843.620080659314,\n",
       " 0.0,\n",
       " 7,\n",
       " array([[3.29924787e+02, 9.42642250e+00, 9.17325572e+02, 3.60897319e+01,\n",
       "         1.53300562e+03, 4.78781465e+03, 1.18503597e+02, 5.03909614e+02],\n",
       "        [8.95075213e+02, 2.55735775e+01, 2.48867443e+03, 9.79102681e+01,\n",
       "         4.15899438e+03, 1.29891853e+04, 3.21496403e+02, 1.36709039e+03]]))"
      ]
     },
     "execution_count": 45,
     "metadata": {},
     "output_type": "execute_result"
    }
   ],
   "source": [
    "stats.chi2_contingency(dallasData_crosstab) "
   ]
  },
  {
   "cell_type": "markdown",
   "id": "5d30001c",
   "metadata": {},
   "source": [
    "Chi-Square Statistic is 2844, The p-value is 0.0, so there is significant findings between the ways dogs and cats come in to Dallas Animal Control."
   ]
  },
  {
   "cell_type": "code",
   "execution_count": 48,
   "id": "86eaadbb",
   "metadata": {},
   "outputs": [],
   "source": [
    "dallasData_crosstab2 = pd.crosstab(dallasData['Animal Type'], dallasData['Intake Condition'])"
   ]
  },
  {
   "cell_type": "code",
   "execution_count": 49,
   "id": "97c5a5f5",
   "metadata": {},
   "outputs": [
    {
     "data": {
      "text/html": [
       "<div>\n",
       "<style scoped>\n",
       "    .dataframe tbody tr th:only-of-type {\n",
       "        vertical-align: middle;\n",
       "    }\n",
       "\n",
       "    .dataframe tbody tr th {\n",
       "        vertical-align: top;\n",
       "    }\n",
       "\n",
       "    .dataframe thead th {\n",
       "        text-align: right;\n",
       "    }\n",
       "</style>\n",
       "<table border=\"1\" class=\"dataframe\">\n",
       "  <thead>\n",
       "    <tr style=\"text-align: right;\">\n",
       "      <th>Intake Condition</th>\n",
       "      <th>APP INJ</th>\n",
       "      <th>APP SICK</th>\n",
       "      <th>APP WNL</th>\n",
       "      <th>CRITICAL</th>\n",
       "      <th>DEAD</th>\n",
       "      <th>DECEASED</th>\n",
       "      <th>FATAL</th>\n",
       "      <th>HEALTHY</th>\n",
       "      <th>NORMAL</th>\n",
       "      <th>TREATABLE MANAGEABLE CONTAGIOUS</th>\n",
       "      <th>TREATABLE MANAGEABLE NON-CONTAGIOUS</th>\n",
       "      <th>TREATABLE REHABILITABLE CONTAGIOUS</th>\n",
       "      <th>TREATABLE REHABILITABLE NON-CONTAGIOUS</th>\n",
       "      <th>UNDERAGE</th>\n",
       "      <th>UNHEALTHY UNTREATABLE CONTAGIOUS</th>\n",
       "      <th>UNHEALTHY UNTREATABLE NON-CONTAGIOUS</th>\n",
       "      <th>UNKNOWN</th>\n",
       "    </tr>\n",
       "    <tr>\n",
       "      <th>Animal Type</th>\n",
       "      <th></th>\n",
       "      <th></th>\n",
       "      <th></th>\n",
       "      <th></th>\n",
       "      <th></th>\n",
       "      <th></th>\n",
       "      <th></th>\n",
       "      <th></th>\n",
       "      <th></th>\n",
       "      <th></th>\n",
       "      <th></th>\n",
       "      <th></th>\n",
       "      <th></th>\n",
       "      <th></th>\n",
       "      <th></th>\n",
       "      <th></th>\n",
       "      <th></th>\n",
       "    </tr>\n",
       "  </thead>\n",
       "  <tbody>\n",
       "    <tr>\n",
       "      <th>CAT</th>\n",
       "      <td>362</td>\n",
       "      <td>782</td>\n",
       "      <td>4307</td>\n",
       "      <td>129</td>\n",
       "      <td>58</td>\n",
       "      <td>78</td>\n",
       "      <td>8</td>\n",
       "      <td>97</td>\n",
       "      <td>402</td>\n",
       "      <td>1</td>\n",
       "      <td>40</td>\n",
       "      <td>28</td>\n",
       "      <td>936</td>\n",
       "      <td>651</td>\n",
       "      <td>1</td>\n",
       "      <td>33</td>\n",
       "      <td>323</td>\n",
       "    </tr>\n",
       "    <tr>\n",
       "      <th>DOG</th>\n",
       "      <td>777</td>\n",
       "      <td>679</td>\n",
       "      <td>15441</td>\n",
       "      <td>132</td>\n",
       "      <td>76</td>\n",
       "      <td>86</td>\n",
       "      <td>11</td>\n",
       "      <td>13</td>\n",
       "      <td>1709</td>\n",
       "      <td>4</td>\n",
       "      <td>38</td>\n",
       "      <td>4</td>\n",
       "      <td>2252</td>\n",
       "      <td>221</td>\n",
       "      <td>0</td>\n",
       "      <td>90</td>\n",
       "      <td>811</td>\n",
       "    </tr>\n",
       "  </tbody>\n",
       "</table>\n",
       "</div>"
      ],
      "text/plain": [
       "Intake Condition  APP INJ  APP SICK  APP WNL  CRITICAL  DEAD  DECEASED  FATAL  \\\n",
       "Animal Type                                                                     \n",
       "CAT                   362       782     4307       129    58        78      8   \n",
       "DOG                   777       679    15441       132    76        86     11   \n",
       "\n",
       "Intake Condition  HEALTHY  NORMAL  TREATABLE MANAGEABLE CONTAGIOUS  \\\n",
       "Animal Type                                                          \n",
       "CAT                    97     402                                1   \n",
       "DOG                    13    1709                                4   \n",
       "\n",
       "Intake Condition  TREATABLE MANAGEABLE NON-CONTAGIOUS  \\\n",
       "Animal Type                                             \n",
       "CAT                                                40   \n",
       "DOG                                                38   \n",
       "\n",
       "Intake Condition  TREATABLE REHABILITABLE CONTAGIOUS  \\\n",
       "Animal Type                                            \n",
       "CAT                                               28   \n",
       "DOG                                                4   \n",
       "\n",
       "Intake Condition  TREATABLE REHABILITABLE NON-CONTAGIOUS  UNDERAGE  \\\n",
       "Animal Type                                                          \n",
       "CAT                                                  936       651   \n",
       "DOG                                                 2252       221   \n",
       "\n",
       "Intake Condition  UNHEALTHY UNTREATABLE CONTAGIOUS  \\\n",
       "Animal Type                                          \n",
       "CAT                                              1   \n",
       "DOG                                              0   \n",
       "\n",
       "Intake Condition  UNHEALTHY UNTREATABLE NON-CONTAGIOUS  UNKNOWN  \n",
       "Animal Type                                                      \n",
       "CAT                                                 33      323  \n",
       "DOG                                                 90      811  "
      ]
     },
     "execution_count": 49,
     "metadata": {},
     "output_type": "execute_result"
    }
   ],
   "source": [
    "dallasData_crosstab2  ## Ignore the cells with <5 "
   ]
  },
  {
   "cell_type": "markdown",
   "id": "9d37b52c",
   "metadata": {},
   "source": [
    "Independent Chi-Square Testing Of Animal Type and Intake Condition"
   ]
  },
  {
   "cell_type": "code",
   "execution_count": 50,
   "id": "34b4db00",
   "metadata": {},
   "outputs": [
    {
     "data": {
      "text/plain": [
       "(2307.5422781772504,\n",
       " 0.0,\n",
       " 16,\n",
       " array([[3.06762721e+02, 3.93485808e+02, 5.31865690e+03, 7.02941792e+01,\n",
       "         3.60897319e+01, 4.41695226e+01, 5.11720078e+00, 2.96258993e+01,\n",
       "         5.68547940e+02, 1.34663179e+00, 2.10074559e+01, 8.61844343e+00,\n",
       "         8.58612426e+02, 2.34852583e+02, 2.69326357e-01, 3.31271419e+01,\n",
       "         3.05416089e+02],\n",
       "        [8.32237279e+02, 1.06751419e+03, 1.44293431e+04, 1.90705821e+02,\n",
       "         9.79102681e+01, 1.19830477e+02, 1.38827992e+01, 8.03741007e+01,\n",
       "         1.54245206e+03, 3.65336821e+00, 5.69925441e+01, 2.33815566e+01,\n",
       "         2.32938757e+03, 6.37147417e+02, 7.30673643e-01, 8.98728581e+01,\n",
       "         8.28583911e+02]]))"
      ]
     },
     "execution_count": 50,
     "metadata": {},
     "output_type": "execute_result"
    }
   ],
   "source": [
    "stats.chi2_contingency(dallasData_crosstab2)"
   ]
  },
  {
   "cell_type": "code",
   "execution_count": null,
   "id": "57189deb",
   "metadata": {},
   "outputs": [],
   "source": []
  }
 ],
 "metadata": {
  "kernelspec": {
   "display_name": "Python 3",
   "language": "python",
   "name": "python3"
  },
  "language_info": {
   "codemirror_mode": {
    "name": "ipython",
    "version": 3
   },
   "file_extension": ".py",
   "mimetype": "text/x-python",
   "name": "python",
   "nbconvert_exporter": "python",
   "pygments_lexer": "ipython3",
   "version": "3.8.8"
  }
 },
 "nbformat": 4,
 "nbformat_minor": 5
}
